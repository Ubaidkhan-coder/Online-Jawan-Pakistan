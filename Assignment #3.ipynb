{
 "cells": [
  {
   "cell_type": "code",
   "execution_count": 1,
   "id": "fb4dd89e",
   "metadata": {},
   "outputs": [],
   "source": [
    "# Python Programming Language Assignmnet : 3"
   ]
  },
  {
   "cell_type": "code",
   "execution_count": 2,
   "id": "26f81400",
   "metadata": {},
   "outputs": [
    {
     "name": "stdout",
     "output_type": "stream",
     "text": [
      "Twinkle, twinkle, little star,\n",
      " \t How I wonder what you are!\n",
      " \t\t Up above the world so hig, \n",
      " \t\t Like a diamond in the sky\n",
      "Twinkle, twinkle, little star, \n",
      " \t How I wonder what you are\n"
     ]
    }
   ],
   "source": [
    "# Task number One\n",
    "# Write a Python program to print the following string in a specific format (see the output).\n",
    "\n",
    "print(\"Twinkle, twinkle, little star,\\n \\t How I wonder what you are!\\n \\t\\t Up above the world so hig, \\n \\t\\t Like a diamond in the sky\\nTwinkle, twinkle, little star, \\n \\t How I wonder what you are\")"
   ]
  },
  {
   "cell_type": "code",
   "execution_count": 3,
   "id": "93c558b0",
   "metadata": {},
   "outputs": [
    {
     "name": "stdout",
     "output_type": "stream",
     "text": [
      "python version\n",
      "3.8.8 (default, Apr 13 2021, 15:08:03) [MSC v.1916 64 bit (AMD64)]\n",
      "python version info\n",
      "sys.version_info(major=3, minor=8, micro=8, releaselevel='final', serial=0)\n"
     ]
    }
   ],
   "source": [
    "# Task Number Two\n",
    "# Write a Python program to get the Python version you are using\n",
    "\n",
    "import sys\n",
    "print(\"python version\")\n",
    "print(sys.version)\n",
    "print(\"python version info\")\n",
    "print(sys.version_info)"
   ]
  },
  {
   "cell_type": "code",
   "execution_count": 5,
   "id": "9e2552ee",
   "metadata": {},
   "outputs": [
    {
     "name": "stdout",
     "output_type": "stream",
     "text": [
      "Current Date and Time\n",
      "21-10-23 22:19\n"
     ]
    }
   ],
   "source": [
    "# Task Number Three\n",
    "# Write a Python program to display the current date and time.\n",
    "\n",
    "import datetime\n",
    "now = datetime.datetime.now()\n",
    "print(\"Current Date and Time\")\n",
    "print(now.strftime(\"%y-%m-%d %H:%M\"))\n",
    "\n"
   ]
  },
  {
   "cell_type": "code",
   "execution_count": 9,
   "id": "dca41d3f",
   "metadata": {},
   "outputs": [
    {
     "name": "stdout",
     "output_type": "stream",
     "text": [
      "Please Enter the Radius of the circle: 50\n",
      "The area of the Circle is: 7853.981633974483\n"
     ]
    }
   ],
   "source": [
    "# Task Number Four\n",
    "# Write a Python program which accepts the radius of a circle from the user and compute the area.\n",
    "\n",
    "import math\n",
    "radius = float(input(\"Please Enter the Radius of the circle: \"))\n",
    "area = math.pi*radius**2\n",
    "print(\"The area of the Circle is: \" + str(area))"
   ]
  },
  {
   "cell_type": "code",
   "execution_count": 14,
   "id": "3035aad2",
   "metadata": {},
   "outputs": [
    {
     "name": "stdout",
     "output_type": "stream",
     "text": [
      "Enter your First Name: Ubaid \n",
      "Enter your last Name: khan\n",
      "Hello: khan Ubaid \n"
     ]
    }
   ],
   "source": [
    "# Task Number Five\n",
    "# Write a Python program which accepts the user's first and last name and print them in reverse order with a space between them.\n",
    "\n",
    "firstName = input(\"Enter your First Name: \")\n",
    "lastName = input(\"Enter your last Name: \")\n",
    "print(\"Hello: \" +lastName +\" \"+ firstName )"
   ]
  },
  {
   "cell_type": "code",
   "execution_count": 15,
   "id": "a4283f51",
   "metadata": {},
   "outputs": [
    {
     "name": "stdout",
     "output_type": "stream",
     "text": [
      "Enter Your First name : Ubaid \n",
      "Enter Your Last name: Khan\n",
      "Ubaid Khan\n"
     ]
    }
   ],
   "source": [
    "# Task Number Six\n",
    "# Write a python program which takes two inputs from user and print them addition.\n",
    "\n",
    "x = input(\"Enter Your First name : \")\n",
    "y = input(\"Enter Your Last name: \")\n",
    "z = x + y\n",
    "print(z)"
   ]
  },
  {
   "cell_type": "code",
   "execution_count": 17,
   "id": "e2001299",
   "metadata": {},
   "outputs": [
    {
     "name": "stdout",
     "output_type": "stream",
     "text": [
      "Enter Your Name: Ubaid khan\n",
      "What is your age: 18\n",
      "Enter Your roll_number: jp14722\n",
      "What is your gender: male\n",
      "Obtained marks in English: 80\n",
      "Obtained marks in Maths: 70\n",
      "Obtained marks in Science: 90\n",
      "Obtained marks in Physics: 69\n",
      "Obtained marks in Chemistry: 99\n",
      "Your percentage is: 81.6%\n",
      "Your Grade is: A1\n"
     ]
    }
   ],
   "source": [
    "# Task Number Seven\n",
    "# Write a program which takes 5 inputs from user for different subject’s marks, total it and generate mark sheet using grades ?\n",
    "\n",
    "name = input(\"Enter Your Name: \")\n",
    "age = int(input(\"What is your age: \"))\n",
    "roll_number = input(\"Enter Your roll_number: \")\n",
    "gender = input(\"What is your gender: \")\n",
    "english = int(input(\"Obtained marks in English: \"))\n",
    "math = int(input(\"Obtained marks in Maths: \"))\n",
    "science= int(input(\"Obtained marks in Science: \"))\n",
    "physics= int(input(\"Obtained marks in Physics: \"))\n",
    "chemistry = int(input(\"Obtained marks in Chemistry: \"))\n",
    "total_obtained_marks = english + math + science + physics + chemistry \n",
    "percentage = total_obtained_marks / 500 * 100\n",
    "print(\"Your percentage is: \" + str(percentage) +\"%\")\n",
    "if percentage >= 80:\n",
    "    print(\"Your Grade is: A1\") \n",
    "elif percentage>= 70:\n",
    "    print(\"Your Grade is: A\")\n",
    "elif percentage >= 60:\n",
    "    print(\"Your Grade is: B\")\n",
    "elif percentage >= 50:\n",
    "    print(\"Your Grade is: C\")\n",
    "elif percentage >= 40:\n",
    "    print(\"Your Grade is> D\")\n",
    "elif percentage >= 33:\n",
    "    print(\"Your Grade is: E\")\n",
    "else:\n",
    "    print(\"You are failed.\")"
   ]
  },
  {
   "cell_type": "code",
   "execution_count": 23,
   "id": "f7ad9f29",
   "metadata": {},
   "outputs": [
    {
     "name": "stdout",
     "output_type": "stream",
     "text": [
      "Enter an Integer: 50\n",
      "50 is an Even Number.\n"
     ]
    }
   ],
   "source": [
    "# Task Number Eight\n",
    "# Write a program which take input from user and identify that the given number is even or odd?\n",
    "\n",
    "number = int(input(\"Enter an Integer: \"))\n",
    "remainder = number % 2\n",
    "if remainder == 0:\n",
    "    print(str(number,) + \" is an Even Number.\")\n",
    "else:\n",
    "    print(str(number,) + \" is an Odd Number.\")"
   ]
  },
  {
   "cell_type": "code",
   "execution_count": 25,
   "id": "b6d02b63",
   "metadata": {},
   "outputs": [
    {
     "name": "stdout",
     "output_type": "stream",
     "text": [
      "8\n"
     ]
    }
   ],
   "source": [
    "# Task Number Nine\n",
    "# Write a program which print the length of the list?\n",
    "\n",
    "lst = [\"Ubaid\",\"Khan\",\"ali\",10,5,True,False,\"umar\"]\n",
    "print(len(lst))"
   ]
  },
  {
   "cell_type": "code",
   "execution_count": 27,
   "id": "d3a5c8ad",
   "metadata": {},
   "outputs": [
    {
     "name": "stdout",
     "output_type": "stream",
     "text": [
      "273\n"
     ]
    }
   ],
   "source": [
    "# Task Number Ten\n",
    "# Write a Python program to sum all the numeric items in a list?\n",
    "lst1 = [2,5,6,89,4,5,8,65,89]\n",
    "print(sum(lst1))"
   ]
  },
  {
   "cell_type": "code",
   "execution_count": 30,
   "id": "a8ce200d",
   "metadata": {},
   "outputs": [
    {
     "name": "stdout",
     "output_type": "stream",
     "text": [
      "59607\n"
     ]
    }
   ],
   "source": [
    "# Task Number Eleven\n",
    "# Write a Python program to get the largest number from a numeric list.\n",
    "\n",
    "lst2 = [3,45,83,1000, 3849,2908, 5869,2233,5869,7869,59607,1,3,567,4563]\n",
    "print(max(lst2))"
   ]
  },
  {
   "cell_type": "code",
   "execution_count": 33,
   "id": "ef664311",
   "metadata": {},
   "outputs": [
    {
     "name": "stdout",
     "output_type": "stream",
     "text": [
      "[1, 1, 2, 3]\n"
     ]
    }
   ],
   "source": [
    "# Task Number Twelve\n",
    "#  Take a list, say for example this one:\n",
    "# a = [1, 1, 2, 3, 5, 8, 13, 21, 34, 55, 89]\n",
    "# Write a program that prints out all the elements of the list that are less than 5.\n",
    "\n",
    "a = [1, 1, 2, 3, 5, 8, 13, 21, 34, 55, 89]\n",
    "print([x for x in a if x<5])\n"
   ]
  },
  {
   "cell_type": "code",
   "execution_count": null,
   "id": "dd31c82a",
   "metadata": {},
   "outputs": [],
   "source": [
    "<!------------------------------------- The End -------------------------------------------------------------------->"
   ]
  }
 ],
 "metadata": {
  "kernelspec": {
   "display_name": "Python 3",
   "language": "python",
   "name": "python3"
  },
  "language_info": {
   "codemirror_mode": {
    "name": "ipython",
    "version": 3
   },
   "file_extension": ".py",
   "mimetype": "text/x-python",
   "name": "python",
   "nbconvert_exporter": "python",
   "pygments_lexer": "ipython3",
   "version": "3.8.8"
  }
 },
 "nbformat": 4,
 "nbformat_minor": 5
}
