{
 "cells": [
  {
   "cell_type": "markdown",
   "id": "1e5aa57d",
   "metadata": {},
   "source": [
    "# Data Science Course "
   ]
  },
  {
   "cell_type": "markdown",
   "id": "7f68296f",
   "metadata": {},
   "source": [
    "# Assignment number one"
   ]
  },
  {
   "cell_type": "code",
   "execution_count": 1,
   "id": "21fbe120",
   "metadata": {},
   "outputs": [
    {
     "name": "stdout",
     "output_type": "stream",
     "text": [
      "Twinkle, twinkle, little star,\n",
      " \t How I wonder what you are!\n",
      " \t\t Up above the world so hig, \n",
      " \t\t Like a diamond in the sky\n",
      "Twinkle, twinkle, little star, \n",
      " \t How I wonder what you are\n"
     ]
    }
   ],
   "source": [
    "# Task number One\n",
    "# Write a Python program to print the following string in a specific format (see the output).\n",
    "\n",
    "print(\"Twinkle, twinkle, little star,\\n \\t How I wonder what you are!\\n \\t\\t Up above the world so hig, \\n \\t\\t Like a diamond in the sky\\nTwinkle, twinkle, little star, \\n \\t How I wonder what you are\")\n"
   ]
  },
  {
   "cell_type": "code",
   "execution_count": 2,
   "id": "36ccbecd",
   "metadata": {},
   "outputs": [
    {
     "name": "stdout",
     "output_type": "stream",
     "text": [
      "python version\n",
      "3.8.8 (default, Apr 13 2021, 15:08:03) [MSC v.1916 64 bit (AMD64)]\n",
      "python version info\n",
      "sys.version_info(major=3, minor=8, micro=8, releaselevel='final', serial=0)\n"
     ]
    }
   ],
   "source": [
    "# Task Number Two\n",
    "# Write a Python program to get the Python version you are using\n",
    "\n",
    "import sys\n",
    "print(\"python version\")\n",
    "print(sys.version)\n",
    "print(\"python version info\")\n",
    "print(sys.version_info)"
   ]
  },
  {
   "cell_type": "code",
   "execution_count": 3,
   "id": "db31b1f7",
   "metadata": {},
   "outputs": [
    {
     "name": "stdout",
     "output_type": "stream",
     "text": [
      "Current Date and Time\n",
      "22-01-01 12:28\n"
     ]
    }
   ],
   "source": [
    "# Task Number Three\n",
    "# Write a Python program to display the current date and time.\n",
    "\n",
    "import datetime\n",
    "now = datetime.datetime.now()\n",
    "print(\"Current Date and Time\")\n",
    "print(now.strftime(\"%y-%m-%d %H:%M\"))"
   ]
  },
  {
   "cell_type": "code",
   "execution_count": 4,
   "id": "f9e4108f",
   "metadata": {},
   "outputs": [
    {
     "name": "stdout",
     "output_type": "stream",
     "text": [
      "Please Enter the Radius of the circle: 50\n",
      "The area of the Circle is: 7853.981633974483\n"
     ]
    }
   ],
   "source": [
    "# Task Number Four\n",
    "# Write a Python program which accepts the radius of a circle from the user and compute the area.\n",
    "\n",
    "import math\n",
    "radius = float(input(\"Please Enter the Radius of the circle: \"))\n",
    "area = math.pi*radius**2\n",
    "print(\"The area of the Circle is: \" + str(area))"
   ]
  },
  {
   "cell_type": "code",
   "execution_count": 5,
   "id": "60008c2d",
   "metadata": {},
   "outputs": [
    {
     "name": "stdout",
     "output_type": "stream",
     "text": [
      "Enter your First Name: Ubaid\n",
      "Enter your last Name: Khan\n",
      "Hello: Khan Ubaid\n"
     ]
    }
   ],
   "source": [
    "# Task Number Five\n",
    "# Write a Python program which accepts the user's first and last name and print them in reverse order with a space between them.\n",
    "\n",
    "firstName = input(\"Enter your First Name: \")\n",
    "lastName = input(\"Enter your last Name: \")\n",
    "print(\"Hello: \" +lastName +\" \"+ firstName )"
   ]
  },
  {
   "cell_type": "code",
   "execution_count": 6,
   "id": "93e09a08",
   "metadata": {},
   "outputs": [
    {
     "name": "stdout",
     "output_type": "stream",
     "text": [
      "Enter Your First name : Ubaid\n",
      "Enter Your Last name: Khan\n",
      "UbaidKhan\n"
     ]
    }
   ],
   "source": [
    "# Task Number Six\n",
    "# Write a python program which takes two inputs from user and print them addition.\n",
    "\n",
    "x = input(\"Enter Your First name : \")\n",
    "y = input(\"Enter Your Last name: \")\n",
    "z = x + y\n",
    "print(z)"
   ]
  },
  {
   "cell_type": "code",
   "execution_count": null,
   "id": "c0821af6",
   "metadata": {},
   "outputs": [],
   "source": []
  }
 ],
 "metadata": {
  "kernelspec": {
   "display_name": "Python 3",
   "language": "python",
   "name": "python3"
  },
  "language_info": {
   "codemirror_mode": {
    "name": "ipython",
    "version": 3
   },
   "file_extension": ".py",
   "mimetype": "text/x-python",
   "name": "python",
   "nbconvert_exporter": "python",
   "pygments_lexer": "ipython3",
   "version": "3.8.8"
  }
 },
 "nbformat": 4,
 "nbformat_minor": 5
}
